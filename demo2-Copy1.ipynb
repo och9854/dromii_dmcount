{
 "cells": [
  {
   "cell_type": "code",
   "execution_count": 27,
   "id": "f3716c94",
   "metadata": {},
   "outputs": [
    {
     "name": "stdout",
     "output_type": "stream",
     "text": [
      "device is cpu\n",
      "num of device is 2\n"
     ]
    }
   ],
   "source": [
    "import torch\n",
    "from models import vgg19\n",
    "from PIL import Image\n",
    "from torchvision import transforms\n",
    "import cv2\n",
    "import numpy as np\n",
    "import os\n",
    "from tqdm import tqdm\n",
    "import warnings\n",
    "warnings.filterwarnings(\"ignore\")\n",
    "import pandas as pd\n",
    "import glob\n",
    "\n",
    "device = torch.device(\"cpu\")\n",
    "# device = torch.device('cuda:0')\n",
    "print(f'device is {device}')\n",
    "print(f'num of device is {torch.cuda.device_count()}')"
   ]
  },
  {
   "cell_type": "code",
   "execution_count": 2,
   "id": "3aba5739",
   "metadata": {},
   "outputs": [
    {
     "name": "stdout",
     "output_type": "stream",
     "text": [
      "1.10.0+cu113\n",
      "['sm_37', 'sm_50', 'sm_60', 'sm_70', 'sm_75', 'sm_80', 'sm_86']\n"
     ]
    }
   ],
   "source": [
    "import torch\n",
    "print(torch.__version__)\n",
    "print(torch.cuda.get_arch_list())\n"
   ]
  },
  {
   "cell_type": "code",
   "execution_count": 57,
   "id": "708df694",
   "metadata": {},
   "outputs": [
    {
     "data": {
      "text/plain": [
       "('/abr/coss06/nov_dm/DM-Count',\n",
       " '/abr/coss06/nov_dm/DM-Count/datasets/test',\n",
       " '/abr/coss06/nov_dm/DM-Count/pretrained_models/model_qnrf.pth',\n",
       " '/abr/coss06/nov_dm/DM-Count/new_results/')"
      ]
     },
     "execution_count": 57,
     "metadata": {},
     "output_type": "execute_result"
    }
   ],
   "source": [
    "ROOT_PATH = os.getcwd()\n",
    "data_path = ROOT_PATH+'/datasets/test'\n",
    "model_path = ROOT_PATH+'/pretrained_models/model_qnrf.pth'\n",
    "result_root_path = ROOT_PATH+'/new_results/'\n",
    "ROOT_PATH,data_path, model_path, result_root_path"
   ]
  },
  {
   "cell_type": "code",
   "execution_count": 18,
   "id": "09e5c786",
   "metadata": {},
   "outputs": [
    {
     "data": {
      "text/plain": [
       "<All keys matched successfully>"
      ]
     },
     "execution_count": 18,
     "metadata": {},
     "output_type": "execute_result"
    }
   ],
   "source": [
    "# load model\n",
    "model = vgg19()\n",
    "model.to(device)\n",
    "\n",
    "model.load_state_dict(torch.load(model_path, device))"
   ]
  },
  {
   "cell_type": "code",
   "execution_count": 74,
   "id": "d1acd268",
   "metadata": {},
   "outputs": [],
   "source": [
    "# predict model\n",
    "model.eval()\n",
    "def predict(inp, image_name):\n",
    "    global result_folder_path\n",
    "    inp = cv2.imread(inp)\n",
    "    inp = Image.fromarray(inp.astype('uint8'), 'RGB')\n",
    "    inp = transforms.ToTensor()(inp).unsqueeze(0)\n",
    "    inp = inp.to(device)\n",
    "    with torch.set_grad_enabled(False):\n",
    "        outputs, _ = model(inp)\n",
    "    count = torch.sum(outputs).item()\n",
    "    vis_img = outputs[0, 0].cpu().numpy()\n",
    "    # normalize density map values from 0 to 1, then map it to 0-255.\n",
    "    vis_img = (vis_img - vis_img.min()) / (vis_img.max() - vis_img.min() + 1e-5)\n",
    "    vis_img = (vis_img * 255).astype(np.uint8)\n",
    "    vis_img = cv2.applyColorMap(vis_img, cv2.COLORMAP_HSV)\n",
    "    vis_img = cv2.cvtColor(vis_img, cv2.COLOR_BGR2RGB)\n",
    "\n",
    "    # increase the resolution of the density map\n",
    "    vis_img = cv2.resize(vis_img, None, fx=8, fy=8, interpolation=cv2.INTER_LINEAR)\n",
    "\n",
    "    # Add count as a caption in the upper right corner of the image\n",
    "    font = cv2.FONT_HERSHEY_SIMPLEX\n",
    "    font_scale = 1\n",
    "    thickness = 2\n",
    "    text = f\"Count: {round(count,2)}\"\n",
    "    print(text, \"is detected\")\n",
    "    text_size, _ = cv2.getTextSize(text, font, font_scale, thickness)\n",
    "    height, width, _ = vis_img.shape\n",
    "    margin = 10\n",
    "    x = width - text_size[0] - margin\n",
    "    y = text_size[1] + margin\n",
    "    cv2.putText(vis_img, text, (x, y), font, font_scale, (255, 255, 255), thickness, cv2.LINE_AA)\n",
    "\n",
    "    result_folder = result_folder_path\n",
    "    if not os.path.exists(result_folder):\n",
    "        os.makedirs(result_folder)\n",
    "        print(f'result folder is not found, making dir at {result_folder}')\n",
    "    result_path = os.path.join(result_folder, f\"{os.path.splitext(os.path.basename(image_name))[0]}_density_map.png\")\n",
    "    print(f'density map file saved at {result_path}')\n",
    "    cv2.imwrite(result_path, vis_img)\n",
    "    return round(count,2)"
   ]
  },
  {
   "cell_type": "code",
   "execution_count": 130,
   "id": "dd731085",
   "metadata": {
    "scrolled": false
   },
   "outputs": [
    {
     "name": "stdout",
     "output_type": "stream",
     "text": [
      "['/abr/coss06/nov_dm/DM-Count/datasets/test/60_80/1.png', '/abr/coss06/nov_dm/DM-Count/datasets/test/60_80/10.png', '/abr/coss06/nov_dm/DM-Count/datasets/test/60_80/2.png', '/abr/coss06/nov_dm/DM-Count/datasets/test/60_80/3.png', '/abr/coss06/nov_dm/DM-Count/datasets/test/60_80/4.png', '/abr/coss06/nov_dm/DM-Count/datasets/test/60_80/5.png', '/abr/coss06/nov_dm/DM-Count/datasets/test/60_80/6.png', '/abr/coss06/nov_dm/DM-Count/datasets/test/60_80/7.png', '/abr/coss06/nov_dm/DM-Count/datasets/test/60_80/8.png', '/abr/coss06/nov_dm/DM-Count/datasets/test/60_80/9.png']\n",
      "Count: 11.94 is detected\n",
      "file saved at /abr/coss06/nov_dm/DM-Count/new_results/60_80/1_density_map.png\n",
      "Count: 51.89 is detected\n",
      "file saved at /abr/coss06/nov_dm/DM-Count/new_results/60_80/10_density_map.png\n",
      "Count: 18.94 is detected\n",
      "file saved at /abr/coss06/nov_dm/DM-Count/new_results/60_80/3_density_map.png\n",
      "Count: 6.1 is detected\n",
      "file saved at /abr/coss06/nov_dm/DM-Count/new_results/60_80/4_density_map.png\n",
      "Count: 67.01 is detected\n",
      "file saved at /abr/coss06/nov_dm/DM-Count/new_results/60_80/5_density_map.png\n",
      "Count: 59.89 is detected\n",
      "file saved at /abr/coss06/nov_dm/DM-Count/new_results/60_80/6_density_map.png\n",
      "Count: 41.99 is detected\n",
      "file saved at /abr/coss06/nov_dm/DM-Count/new_results/60_80/7_density_map.png\n",
      "Count: 44.46 is detected\n",
      "file saved at /abr/coss06/nov_dm/DM-Count/new_results/60_80/8_density_map.png\n",
      "Count: 78.93 is detected\n",
      "file saved at /abr/coss06/nov_dm/DM-Count/new_results/60_80/9_density_map.png\n",
      "60_80 test is done and saved result csv file\n"
     ]
    }
   ],
   "source": [
    "# predict and save all the images\n",
    "image_folders = sorted(os.listdir(data_path))[2:]\n",
    "\n",
    "for image_folder in image_folders[3:4]:\n",
    "    # load xlsx file from test dataset(ground_truth)\n",
    "    df = pd.read_excel(folder_path + '/' + os.path.splitext(os.path.basename(folder_path))[0] + '.xlsx')\n",
    "    \n",
    "    # path\n",
    "    folder_path = data_path + '/' + image_folder\n",
    "    result_folder_path = result_root_path + image_folder\n",
    "    imgs = sorted(glob.glob(folder_path + \"/*.png\")) #+ glob.glob(folder_path + \"/*.jpg\"))\n",
    "    print(imgs)\n",
    "    # create new column for dm-count\n",
    "    df['dm-count'] = [-1] * len(imgs)\n",
    "        \n",
    "    #predict all the images in a folder\n",
    "    for idx, img in enumerate(imgs):\n",
    "        # get count result\n",
    "        count_result = predict(img, img) \n",
    "        # append in the df\n",
    "        df.loc[df['order'] == int(os.path.splitext(os.path.basename(img))[0]), 'dm-count'] = count_result\n",
    "#         print(df)\n",
    "    #save csv file in each test result folder\n",
    "    csv_save = result_folder_path + '/' + os.path.splitext(os.path.basename(folder_path))[0] + '.csv'\n",
    "    df.to_csv(csv_save, index=False)\n",
    "    print(f'{image_folder} test is done and saved result csv file')"
   ]
  },
  {
   "cell_type": "code",
   "execution_count": 128,
   "id": "417af829",
   "metadata": {},
   "outputs": [
    {
     "data": {
      "text/plain": [
       "'2'"
      ]
     },
     "execution_count": 128,
     "metadata": {},
     "output_type": "execute_result"
    }
   ],
   "source": [
    "os.path.splitext(os.path.basename(img))[0]"
   ]
  },
  {
   "cell_type": "code",
   "execution_count": 126,
   "id": "51e5760d",
   "metadata": {},
   "outputs": [
    {
     "name": "stdout",
     "output_type": "stream",
     "text": [
      "done\n"
     ]
    }
   ],
   "source": [
    "print('done')"
   ]
  },
  {
   "cell_type": "code",
   "execution_count": 127,
   "id": "caa0611c",
   "metadata": {},
   "outputs": [
    {
     "data": {
      "text/html": [
       "<div>\n",
       "<style scoped>\n",
       "    .dataframe tbody tr th:only-of-type {\n",
       "        vertical-align: middle;\n",
       "    }\n",
       "\n",
       "    .dataframe tbody tr th {\n",
       "        vertical-align: top;\n",
       "    }\n",
       "\n",
       "    .dataframe thead th {\n",
       "        text-align: right;\n",
       "    }\n",
       "</style>\n",
       "<table border=\"1\" class=\"dataframe\">\n",
       "  <thead>\n",
       "    <tr style=\"text-align: right;\">\n",
       "      <th></th>\n",
       "      <th>order</th>\n",
       "      <th>count</th>\n",
       "      <th>dm-count</th>\n",
       "    </tr>\n",
       "  </thead>\n",
       "  <tbody>\n",
       "    <tr>\n",
       "      <th>0</th>\n",
       "      <td>1</td>\n",
       "      <td>62</td>\n",
       "      <td>11.94</td>\n",
       "    </tr>\n",
       "    <tr>\n",
       "      <th>1</th>\n",
       "      <td>2</td>\n",
       "      <td>65</td>\n",
       "      <td>-1.00</td>\n",
       "    </tr>\n",
       "    <tr>\n",
       "      <th>2</th>\n",
       "      <td>3</td>\n",
       "      <td>65</td>\n",
       "      <td>-1.00</td>\n",
       "    </tr>\n",
       "    <tr>\n",
       "      <th>3</th>\n",
       "      <td>4</td>\n",
       "      <td>66</td>\n",
       "      <td>-1.00</td>\n",
       "    </tr>\n",
       "    <tr>\n",
       "      <th>4</th>\n",
       "      <td>5</td>\n",
       "      <td>70</td>\n",
       "      <td>-1.00</td>\n",
       "    </tr>\n",
       "    <tr>\n",
       "      <th>5</th>\n",
       "      <td>6</td>\n",
       "      <td>71</td>\n",
       "      <td>-1.00</td>\n",
       "    </tr>\n",
       "    <tr>\n",
       "      <th>6</th>\n",
       "      <td>7</td>\n",
       "      <td>72</td>\n",
       "      <td>-1.00</td>\n",
       "    </tr>\n",
       "    <tr>\n",
       "      <th>7</th>\n",
       "      <td>8</td>\n",
       "      <td>77</td>\n",
       "      <td>-1.00</td>\n",
       "    </tr>\n",
       "    <tr>\n",
       "      <th>8</th>\n",
       "      <td>9</td>\n",
       "      <td>78</td>\n",
       "      <td>-1.00</td>\n",
       "    </tr>\n",
       "    <tr>\n",
       "      <th>9</th>\n",
       "      <td>10</td>\n",
       "      <td>79</td>\n",
       "      <td>51.89</td>\n",
       "    </tr>\n",
       "  </tbody>\n",
       "</table>\n",
       "</div>"
      ],
      "text/plain": [
       "   order  count  dm-count\n",
       "0      1     62     11.94\n",
       "1      2     65     -1.00\n",
       "2      3     65     -1.00\n",
       "3      4     66     -1.00\n",
       "4      5     70     -1.00\n",
       "5      6     71     -1.00\n",
       "6      7     72     -1.00\n",
       "7      8     77     -1.00\n",
       "8      9     78     -1.00\n",
       "9     10     79     51.89"
      ]
     },
     "execution_count": 127,
     "metadata": {},
     "output_type": "execute_result"
    }
   ],
   "source": [
    "df"
   ]
  },
  {
   "cell_type": "code",
   "execution_count": null,
   "id": "772eb898",
   "metadata": {},
   "outputs": [],
   "source": []
  },
  {
   "cell_type": "code",
   "execution_count": null,
   "id": "b5f6efd9",
   "metadata": {},
   "outputs": [],
   "source": []
  },
  {
   "cell_type": "code",
   "execution_count": null,
   "id": "84c83f28",
   "metadata": {},
   "outputs": [],
   "source": []
  },
  {
   "cell_type": "code",
   "execution_count": 107,
   "id": "6d6ebc7f",
   "metadata": {},
   "outputs": [
    {
     "data": {
      "text/plain": [
       "'/abr/coss06/nov_dm/DM-Count/new_results/0_20'"
      ]
     },
     "execution_count": 107,
     "metadata": {},
     "output_type": "execute_result"
    }
   ],
   "source": [
    "result_folder_path"
   ]
  },
  {
   "cell_type": "code",
   "execution_count": 109,
   "id": "99087b94",
   "metadata": {},
   "outputs": [
    {
     "data": {
      "text/plain": [
       "'0_20'"
      ]
     },
     "execution_count": 109,
     "metadata": {},
     "output_type": "execute_result"
    }
   ],
   "source": [
    "os.path.splitext(os.path.basename(folder_path))[0]"
   ]
  },
  {
   "cell_type": "code",
   "execution_count": 111,
   "id": "8b02cccf",
   "metadata": {},
   "outputs": [
    {
     "data": {
      "text/plain": [
       "'/abr/coss06/nov_dm/DM-Count/new_results/0_20/0_20.csv'"
      ]
     },
     "execution_count": 111,
     "metadata": {},
     "output_type": "execute_result"
    }
   ],
   "source": [
    "csv_save = result_folder_path + '/' + os.path.splitext(os.path.basename(folder_path))[0] + '.csv'\n",
    "csv_save"
   ]
  },
  {
   "cell_type": "code",
   "execution_count": 114,
   "id": "53de43c0",
   "metadata": {},
   "outputs": [],
   "source": [
    "csv_save = result_folder_path + '/' + os.path.splitext(os.path.basename(folder_path))[0] + '.csv'\n",
    "df.to_csv(csv_save, index=False)"
   ]
  },
  {
   "cell_type": "code",
   "execution_count": 118,
   "id": "769606c7",
   "metadata": {},
   "outputs": [
    {
     "data": {
      "text/html": [
       "<div>\n",
       "<style scoped>\n",
       "    .dataframe tbody tr th:only-of-type {\n",
       "        vertical-align: middle;\n",
       "    }\n",
       "\n",
       "    .dataframe tbody tr th {\n",
       "        vertical-align: top;\n",
       "    }\n",
       "\n",
       "    .dataframe thead th {\n",
       "        text-align: right;\n",
       "    }\n",
       "</style>\n",
       "<table border=\"1\" class=\"dataframe\">\n",
       "  <thead>\n",
       "    <tr style=\"text-align: right;\">\n",
       "      <th></th>\n",
       "      <th>order</th>\n",
       "      <th>count</th>\n",
       "      <th>dm-count</th>\n",
       "    </tr>\n",
       "  </thead>\n",
       "  <tbody>\n",
       "    <tr>\n",
       "      <th>0</th>\n",
       "      <td>1</td>\n",
       "      <td>16</td>\n",
       "      <td>13.39</td>\n",
       "    </tr>\n",
       "    <tr>\n",
       "      <th>1</th>\n",
       "      <td>2</td>\n",
       "      <td>18</td>\n",
       "      <td>18.42</td>\n",
       "    </tr>\n",
       "    <tr>\n",
       "      <th>2</th>\n",
       "      <td>3</td>\n",
       "      <td>11</td>\n",
       "      <td>4.61</td>\n",
       "    </tr>\n",
       "    <tr>\n",
       "      <th>3</th>\n",
       "      <td>4</td>\n",
       "      <td>11</td>\n",
       "      <td>1.43</td>\n",
       "    </tr>\n",
       "    <tr>\n",
       "      <th>4</th>\n",
       "      <td>5</td>\n",
       "      <td>10</td>\n",
       "      <td>6.33</td>\n",
       "    </tr>\n",
       "    <tr>\n",
       "      <th>5</th>\n",
       "      <td>6</td>\n",
       "      <td>8</td>\n",
       "      <td>15.90</td>\n",
       "    </tr>\n",
       "    <tr>\n",
       "      <th>6</th>\n",
       "      <td>7</td>\n",
       "      <td>9</td>\n",
       "      <td>0.52</td>\n",
       "    </tr>\n",
       "    <tr>\n",
       "      <th>7</th>\n",
       "      <td>8</td>\n",
       "      <td>19</td>\n",
       "      <td>0.00</td>\n",
       "    </tr>\n",
       "    <tr>\n",
       "      <th>8</th>\n",
       "      <td>9</td>\n",
       "      <td>10</td>\n",
       "      <td>9.72</td>\n",
       "    </tr>\n",
       "    <tr>\n",
       "      <th>9</th>\n",
       "      <td>10</td>\n",
       "      <td>11</td>\n",
       "      <td>13.65</td>\n",
       "    </tr>\n",
       "  </tbody>\n",
       "</table>\n",
       "</div>"
      ],
      "text/plain": [
       "   order  count  dm-count\n",
       "0      1     16     13.39\n",
       "1      2     18     18.42\n",
       "2      3     11      4.61\n",
       "3      4     11      1.43\n",
       "4      5     10      6.33\n",
       "5      6      8     15.90\n",
       "6      7      9      0.52\n",
       "7      8     19      0.00\n",
       "8      9     10      9.72\n",
       "9     10     11     13.65"
      ]
     },
     "execution_count": 118,
     "metadata": {},
     "output_type": "execute_result"
    }
   ],
   "source": [
    "pd.read_csv(csv_save)"
   ]
  },
  {
   "cell_type": "code",
   "execution_count": null,
   "id": "89822731",
   "metadata": {},
   "outputs": [],
   "source": []
  },
  {
   "cell_type": "code",
   "execution_count": null,
   "id": "2eae3b0e",
   "metadata": {},
   "outputs": [],
   "source": []
  },
  {
   "cell_type": "code",
   "execution_count": null,
   "id": "29a9f9c8",
   "metadata": {},
   "outputs": [],
   "source": []
  },
  {
   "cell_type": "code",
   "execution_count": 65,
   "id": "0ca33b5f",
   "metadata": {},
   "outputs": [
    {
     "data": {
      "text/plain": [
       "('/abr/coss06/nov_dm/DM-Count/datasets/test/0_20', '0_20')"
      ]
     },
     "execution_count": 65,
     "metadata": {},
     "output_type": "execute_result"
    }
   ],
   "source": [
    "folder_path,  os.path.splitext(os.path.basename(folder_path))[0]"
   ]
  },
  {
   "cell_type": "code",
   "execution_count": 83,
   "id": "3c1dbe69",
   "metadata": {},
   "outputs": [
    {
     "data": {
      "text/plain": [
       "('/abr/coss06/nov_dm/DM-Count/datasets/test/0_20', '10')"
      ]
     },
     "execution_count": 83,
     "metadata": {},
     "output_type": "execute_result"
    }
   ],
   "source": [
    "folder_path,  os.path.splitext(os.path.basename(img))[0]"
   ]
  },
  {
   "cell_type": "code",
   "execution_count": 104,
   "id": "4e7ee527",
   "metadata": {},
   "outputs": [
    {
     "data": {
      "text/html": [
       "<div>\n",
       "<style scoped>\n",
       "    .dataframe tbody tr th:only-of-type {\n",
       "        vertical-align: middle;\n",
       "    }\n",
       "\n",
       "    .dataframe tbody tr th {\n",
       "        vertical-align: top;\n",
       "    }\n",
       "\n",
       "    .dataframe thead th {\n",
       "        text-align: right;\n",
       "    }\n",
       "</style>\n",
       "<table border=\"1\" class=\"dataframe\">\n",
       "  <thead>\n",
       "    <tr style=\"text-align: right;\">\n",
       "      <th></th>\n",
       "      <th>order</th>\n",
       "      <th>count</th>\n",
       "    </tr>\n",
       "  </thead>\n",
       "  <tbody>\n",
       "    <tr>\n",
       "      <th>0</th>\n",
       "      <td>1</td>\n",
       "      <td>16</td>\n",
       "    </tr>\n",
       "    <tr>\n",
       "      <th>1</th>\n",
       "      <td>2</td>\n",
       "      <td>18</td>\n",
       "    </tr>\n",
       "    <tr>\n",
       "      <th>2</th>\n",
       "      <td>3</td>\n",
       "      <td>11</td>\n",
       "    </tr>\n",
       "    <tr>\n",
       "      <th>3</th>\n",
       "      <td>4</td>\n",
       "      <td>11</td>\n",
       "    </tr>\n",
       "    <tr>\n",
       "      <th>4</th>\n",
       "      <td>5</td>\n",
       "      <td>10</td>\n",
       "    </tr>\n",
       "    <tr>\n",
       "      <th>5</th>\n",
       "      <td>6</td>\n",
       "      <td>8</td>\n",
       "    </tr>\n",
       "    <tr>\n",
       "      <th>6</th>\n",
       "      <td>7</td>\n",
       "      <td>9</td>\n",
       "    </tr>\n",
       "    <tr>\n",
       "      <th>7</th>\n",
       "      <td>8</td>\n",
       "      <td>19</td>\n",
       "    </tr>\n",
       "    <tr>\n",
       "      <th>8</th>\n",
       "      <td>9</td>\n",
       "      <td>10</td>\n",
       "    </tr>\n",
       "    <tr>\n",
       "      <th>9</th>\n",
       "      <td>10</td>\n",
       "      <td>-500</td>\n",
       "    </tr>\n",
       "  </tbody>\n",
       "</table>\n",
       "</div>"
      ],
      "text/plain": [
       "   order  count\n",
       "0      1     16\n",
       "1      2     18\n",
       "2      3     11\n",
       "3      4     11\n",
       "4      5     10\n",
       "5      6      8\n",
       "6      7      9\n",
       "7      8     19\n",
       "8      9     10\n",
       "9     10   -500"
      ]
     },
     "execution_count": 104,
     "metadata": {},
     "output_type": "execute_result"
    }
   ],
   "source": [
    "df = pd.read_excel(folder_path + '/' + os.path.splitext(os.path.basename(folder_path))[0] + '.xlsx')\n",
    "df[df['order'] == int(os.path.splitext(os.path.basename(img))[0])]['count'] =999\n",
    "\n",
    "df.loc[df['order'] == int(os.path.splitext(os.path.basename(img))[0]), 'count'] = -500\n",
    "df"
   ]
  },
  {
   "cell_type": "code",
   "execution_count": null,
   "id": "51e9a53c",
   "metadata": {},
   "outputs": [],
   "source": []
  },
  {
   "cell_type": "code",
   "execution_count": null,
   "id": "4f615274",
   "metadata": {},
   "outputs": [],
   "source": []
  },
  {
   "cell_type": "code",
   "execution_count": null,
   "id": "bdbfe18d",
   "metadata": {},
   "outputs": [],
   "source": []
  },
  {
   "cell_type": "code",
   "execution_count": null,
   "id": "f7227d6c",
   "metadata": {},
   "outputs": [],
   "source": []
  },
  {
   "cell_type": "code",
   "execution_count": null,
   "id": "d6cb1521",
   "metadata": {},
   "outputs": [],
   "source": []
  }
 ],
 "metadata": {
  "kernelspec": {
   "display_name": "py37dm",
   "language": "python",
   "name": "py37dm"
  },
  "language_info": {
   "codemirror_mode": {
    "name": "ipython",
    "version": 3
   },
   "file_extension": ".py",
   "mimetype": "text/x-python",
   "name": "python",
   "nbconvert_exporter": "python",
   "pygments_lexer": "ipython3",
   "version": "3.7.16"
  }
 },
 "nbformat": 4,
 "nbformat_minor": 5
}
